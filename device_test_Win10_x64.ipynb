{
 "cells": [
  {
   "cell_type": "markdown",
   "metadata": {},
   "source": [
    "### Test of basic commands \n",
    "* OS: Windows 10, 64x\n",
    "* ETL: Optotune EL-16-40-TC-VIS-5D-C \n",
    "* Lens Driver: EL-E-4i (industrial version)"
   ]
  },
  {
   "cell_type": "code",
   "execution_count": 1,
   "metadata": {},
   "outputs": [],
   "source": [
    "from opto import Opto"
   ]
  },
  {
   "cell_type": "code",
   "execution_count": 2,
   "metadata": {},
   "outputs": [],
   "source": [
    "o = Opto(port='COM3')"
   ]
  },
  {
   "cell_type": "code",
   "execution_count": 3,
   "metadata": {},
   "outputs": [],
   "source": [
    "o.connect()"
   ]
  },
  {
   "cell_type": "code",
   "execution_count": 4,
   "metadata": {},
   "outputs": [
    {
     "name": "stdout",
     "output_type": "stream",
     "text": [
      "Reset current to 0, device responds: b'Ready\\r\\n'\n"
     ]
    }
   ],
   "source": [
    "print('Reset current to 0, device responds: ' + str(o.handshake()))"
   ]
  },
  {
   "cell_type": "code",
   "execution_count": 6,
   "metadata": {},
   "outputs": [
    {
     "name": "stdout",
     "output_type": "stream",
     "text": [
      "Firmware: 70\n",
      "Part number: b'\\x02\\x0b\\x0b'\n",
      "Device ID:b'AKAB0838'\n",
      "Device status:b'\\x00\\x00\\x00\\x00'\n"
     ]
    }
   ],
   "source": [
    "print('Firmware: ' + str(o.firmwaretype()))\n",
    "print('Part number: ' + str(o.partnumber()))\n",
    "print('Device ID:' + str(o.deviceid()))\n",
    "print('Device status:' + str(o.get_status()))"
   ]
  },
  {
   "cell_type": "code",
   "execution_count": 12,
   "metadata": {},
   "outputs": [
    {
     "name": "stdout",
     "output_type": "stream",
     "text": [
      "Lower software current, mA:-292.84\n",
      "Upper software current, mA: 292.84\n"
     ]
    }
   ],
   "source": [
    "print('Lower software current, mA:' + str(o.current_lower()))\n",
    "print('Upper software current, mA: ' + str(o.current_upper()))"
   ]
  },
  {
   "cell_type": "code",
   "execution_count": 18,
   "metadata": {},
   "outputs": [
    {
     "data": {
      "text/plain": [
       "50"
      ]
     },
     "execution_count": 18,
     "metadata": {},
     "output_type": "execute_result"
    }
   ],
   "source": [
    "# set the current\n",
    "o.current(50)"
   ]
  },
  {
   "cell_type": "code",
   "execution_count": 19,
   "metadata": {},
   "outputs": [],
   "source": [
    "o.close(soft_close=True)"
   ]
  }
 ],
 "metadata": {
  "kernelspec": {
   "display_name": "Python [conda env:py36]",
   "language": "python",
   "name": "conda-env-py36-py"
  },
  "language_info": {
   "codemirror_mode": {
    "name": "ipython",
    "version": 3
   },
   "file_extension": ".py",
   "mimetype": "text/x-python",
   "name": "python",
   "nbconvert_exporter": "python",
   "pygments_lexer": "ipython3",
   "version": "3.6.5"
  }
 },
 "nbformat": 4,
 "nbformat_minor": 2
}
